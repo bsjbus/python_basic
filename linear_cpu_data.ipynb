{
 "cells": [
  {
   "cell_type": "code",
   "execution_count": 2,
   "id": "1a702ab9-ffe0-457a-b7c3-3c37db4d7b22",
   "metadata": {},
   "outputs": [
    {
     "ename": "ModuleNotFoundError",
     "evalue": "No module named 'seaborn'",
     "output_type": "error",
     "traceback": [
      "\u001b[1;31m---------------------------------------------------------------------------\u001b[0m",
      "\u001b[1;31mModuleNotFoundError\u001b[0m                       Traceback (most recent call last)",
      "Cell \u001b[1;32mIn[2], line 2\u001b[0m\n\u001b[0;32m      1\u001b[0m \u001b[38;5;28;01mimport\u001b[39;00m \u001b[38;5;21;01mpandas\u001b[39;00m \u001b[38;5;28;01mas\u001b[39;00m \u001b[38;5;21;01mpd\u001b[39;00m\n\u001b[1;32m----> 2\u001b[0m \u001b[38;5;28;01mimport\u001b[39;00m \u001b[38;5;21;01mseaborn\u001b[39;00m \u001b[38;5;28;01mas\u001b[39;00m \u001b[38;5;21;01msns\u001b[39;00m\n\u001b[0;32m      3\u001b[0m \u001b[38;5;28;01mimport\u001b[39;00m \u001b[38;5;21;01mmatplotlib\u001b[39;00m\u001b[38;5;21;01m.\u001b[39;00m\u001b[38;5;21;01mpyplot\u001b[39;00m \u001b[38;5;28;01mas\u001b[39;00m \u001b[38;5;21;01mplt\u001b[39;00m\n\u001b[0;32m      4\u001b[0m \u001b[38;5;28;01mfrom\u001b[39;00m \u001b[38;5;21;01msklearn\u001b[39;00m\u001b[38;5;21;01m.\u001b[39;00m\u001b[38;5;21;01mpreprocessing\u001b[39;00m \u001b[38;5;28;01mimport\u001b[39;00m StandardScaler\n",
      "\u001b[1;31mModuleNotFoundError\u001b[0m: No module named 'seaborn'"
     ]
    }
   ],
   "source": [
    "import pandas as pd\n",
    "import seaborn as sns\n",
    "import matplotlib.pyplot as plt\n",
    "from sklearn.preprocessing import StandardScaler\n",
    "from sklearn.model_selection import train_test_split, cross_val_score\n",
    "from sklearn.linear_model import LinearRegression\n",
    "from sklearn.metrics import mean_squared_error, mean_absolute_error, r2_score\n",
    "\n",
    "# 데이터 불러오기\n",
    "machine_data = pd.read_csv('machine.data_update.csv')\n",
    "\n",
    "# 필요 없는 열 제거\n",
    "machine_data_processed = machine_data.drop(['VendorName', 'ModelName', 'ERP'], axis=1)\n",
    "\n",
    "# 데이터 탐색 및 시각화\n",
    "plt.figure(figsize=(12, 8))\n",
    "correlation_matrix = machine_data_processed.corr()\n",
    "sns.heatmap(correlation_matrix, annot=True, cmap='coolwarm', fmt='.2f')\n",
    "plt.title('Correlation Matrix of CPU Performance Data')\n",
    "plt.show()\n",
    "\n",
    "# 데이터 스케일링\n",
    "scaler = StandardScaler()\n",
    "scaled_features = scaler.fit_transform(machine_data_processed.drop('PRP', axis=1))\n",
    "\n",
    "# 스케일된 데이터프레임 생성\n",
    "scaled_features_df = pd.DataFrame(scaled_features, columns=machine_data_processed.columns[:-1])\n",
    "scaled_features_df['PRP'] = machine_data_processed['PRP']\n",
    "\n",
    "# 데이터 분할\n",
    "X = scaled_features_df.drop('PRP', axis=1)\n",
    "y = scaled_features_df['PRP']\n",
    "X_train, X_test, y_train, y_test = train_test_split(X, y, test_size=0.2, random_state=42)\n",
    "\n",
    "# 다중 선형 회귀 모델 훈련\n",
    "model = LinearRegression()\n",
    "model.fit(X_train, y_train)\n",
    "\n",
    "# 교차 검증\n",
    "cv_scores = cross_val_score(model, X_train, y_train, cv=5)\n",
    "\n",
    "# 학습 데이터 평가\n",
    "y_train_pred = model.predict(X_train)\n",
    "\n",
    "# 테스트 데이터 평가\n",
    "y_test_pred = model.predict(X_test)\n",
    "\n",
    "# 평가 결과 출력\n",
    "print(f'Cross-validation Mean Score: {cv_scores.mean():.4f}')\n",
    "print(f'Test R^2 Score: {r2_score(y_test, y_test_pred):.4f}')\n",
    "print(f'Test Mean Squared Error: {mean_squared_error(y_test, y_test_pred):.4f}')\n",
    "print(f'Test Mean Absolute Error: {mean_absolute_error(y_test, y_test_pred):.4f}')\n",
    "\n",
    "# 모델 성능 개선 - 다항 회귀 모델 적용\n",
    "from sklearn.preprocessing import PolynomialFeatures\n",
    "from sklearn.pipeline import Pipeline\n",
    "\n",
    "pipeline = Pipeline([\n",
    "    ('poly_features', PolynomialFeatures(degree=2)),\n",
    "    ('scaler', StandardScaler()),\n",
    "    ('linear_regression', LinearRegression())\n",
    "])\n",
    "\n",
    "pipeline.fit(X_train, y_train)\n",
    "\n",
    "# 테스트 데이터 평가 (다항 회귀)\n",
    "y_test_pred_poly = pipeline.predict(X_test)\n",
    "\n",
    "# 개선된 모델 평가 결과 출력\n",
    "print(f'Polynomial Test R^2 Score: {r2_score(y_test, y_test_pred_poly):.4f}')\n",
    "print(f'Polynomial Test Mean Squared Error: {mean_squared_error(y_test, y_test_pred_poly):.4f}')\n",
    "print(f'Polynomial Test Mean Absolute Error: {mean_absolute_error(y_test, y_test_pred_poly):.4f}')\n"
   ]
  },
  {
   "cell_type": "code",
   "execution_count": null,
   "id": "6852a5f2-8be1-4e1c-93f0-900b0e3146d4",
   "metadata": {},
   "outputs": [],
   "source": []
  }
 ],
 "metadata": {
  "kernelspec": {
   "display_name": "Python 3 (ipykernel)",
   "language": "python",
   "name": "python3"
  },
  "language_info": {
   "codemirror_mode": {
    "name": "ipython",
    "version": 3
   },
   "file_extension": ".py",
   "mimetype": "text/x-python",
   "name": "python",
   "nbconvert_exporter": "python",
   "pygments_lexer": "ipython3",
   "version": "3.12.2"
  }
 },
 "nbformat": 4,
 "nbformat_minor": 5
}
